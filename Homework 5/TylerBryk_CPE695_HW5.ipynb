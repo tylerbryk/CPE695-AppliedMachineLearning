{
 "cells": [
  {
   "cell_type": "markdown",
   "metadata": {
    "id": "7M8llFCB0Gaz"
   },
   "source": [
    "# CPE695 HW5 \n",
    "**By: Tyler Bryk**\n",
    "\n",
    "In this assignment, we will design a genetic algorithm to perform polynomial fitting on a randomly generated dataset. The genetic algorithm will create new offspring by using both mutation and crossover operations. First, the sample data will be created which follows the curve Y = x^3 + 20x^2 + 5x + Noise. Then the genetic algorithm will be implemented, and the results will be compared with the built-in polyfit() function. "
   ]
  },
  {
   "cell_type": "code",
   "execution_count": 1,
   "metadata": {
    "id": "68mw6UkvhCwf"
   },
   "outputs": [],
   "source": [
    "# Import Libraries\n",
    "import math\n",
    "import numpy as np\n",
    "import matplotlib.pyplot as plt\n",
    "from sklearn.model_selection import train_test_split\n",
    "plt.style.use('seaborn-whitegrid')"
   ]
  },
  {
   "cell_type": "code",
   "execution_count": 2,
   "metadata": {
    "id": "K9VO9a8b4iDO"
   },
   "outputs": [],
   "source": [
    "# Define Simulated Data from HW1\n",
    "noise = 100 \n",
    "samples = 50\n",
    "x = 25 * (np.random.rand(samples, 1) - 0.8)\n",
    "y = 5 * x + 20 * x**2 + 1 * x**3 + noise * np.random.randn(samples, 1) \n",
    "x_train, x_test, y_train, y_test = train_test_split(x.squeeze(), y.squeeze(), test_size=0.30, random_state=10413641)"
   ]
  },
  {
   "cell_type": "code",
   "execution_count": 3,
   "metadata": {
    "id": "BcpMSjet9SYu"
   },
   "outputs": [],
   "source": [
    "# Helper Functions\n",
    "def generateChromos(n):\n",
    "  chromosomes = []\n",
    "  for i in range(n):\n",
    "    chromosomes.append(np.random.randint(0,25,4))\n",
    "  return chromosomes\n",
    "\n",
    "def MSE(chromosomes):\n",
    "  error = []\n",
    "  for chr in chromosomes:\n",
    "      poly = np.poly1d(chr)\n",
    "      preds = []\n",
    "      for x in x_train:\n",
    "        preds.append(poly(x))\n",
    "      error.append(np.square(y_train - preds).mean())\n",
    "  return error\n",
    "\n",
    "def findKMin(data, k):\n",
    "  bestData = sorted(data)[:k]\n",
    "  bestIdx  = []\n",
    "  for d in bestData:\n",
    "    bestIdx.append(data.index(d))\n",
    "  return bestIdx"
   ]
  },
  {
   "cell_type": "code",
   "execution_count": 4,
   "metadata": {
    "id": "LdYMQb6D0svz"
   },
   "outputs": [],
   "source": [
    "def polyFitGA(iter=500, mutationRate=0.1, crossoverRate=1):\n",
    "  chromosomes = generateChromos(100)\n",
    "  for i in range(iter):\n",
    "    # Compute Error of Chromosomes\n",
    "    error = MSE(chromosomes)\n",
    "\n",
    "    # Keep 10 Best Chromosomes\n",
    "    keptChromos = []\n",
    "    bestIdxs = findKMin(data=error, k=10)\n",
    "    for idx in bestIdxs:\n",
    "      keptChromos.append(chromosomes[idx])\n",
    "\n",
    "    # Generate New Chromosomes\n",
    "    chromosomes = []\n",
    "    for chrIdx in range(0,len(keptChromos),2):\n",
    "      chr1 = keptChromos[chrIdx]\n",
    "      chr2 = keptChromos[chrIdx+1]\n",
    "      chromosomes.append(chr1)\n",
    "      chromosomes.append(chr2)\n",
    "      while len(chromosomes) < (20*((chrIdx/2)+1)):\n",
    "        #Crossover\n",
    "        if (np.random.uniform(0.0, 1.0) <= crossoverRate):\n",
    "          randIdx = np.random.randint(0,3)\n",
    "          newChromo = []\n",
    "          for i1 in range(randIdx+1):\n",
    "            newChromo.append(chr1[i1])\n",
    "          for i2 in range(randIdx+1, len(chr2)):\n",
    "            newChromo.append(chr2[i2])\n",
    "          chromosomes.append(np.array(newChromo))\n",
    "          \n",
    "        # Mutation\n",
    "        if (np.random.uniform(0.0, 1.0) <= mutationRate):\n",
    "          randIdx = np.random.randint(0,4)\n",
    "          randMlt = np.random.uniform(0.0, 2.0)\n",
    "          if np.random.randint(0,10) < 5: tmp = chr1.copy()\n",
    "          else: tmp = chr2.copy()\n",
    "          tmp[randIdx] = tmp[randIdx] * randMlt\n",
    "          chromosomes.append(tmp)\n",
    "\n",
    "  # Pick Best Chromosome\n",
    "  error = MSE(chromosomes)\n",
    "  bestIdx = findKMin(data=error, k=1)\n",
    "  return chromosomes[bestIdx[0]]"
   ]
  },
  {
   "cell_type": "code",
   "execution_count": 5,
   "metadata": {
    "id": "vZs7sSvUrOub"
   },
   "outputs": [],
   "source": [
    "# Train Both GA() and Polyfit() Models\n",
    "polyPF = np.poly1d(np.polyfit(x_train, y_train, 3))\n",
    "polyGA = np.poly1d(polyFitGA(iter=500, mutationRate=0.10, crossoverRate=1.00))"
   ]
  },
  {
   "cell_type": "code",
   "execution_count": 6,
   "metadata": {
    "colab": {
     "base_uri": "https://localhost:8080/",
     "height": 277
    },
    "id": "8dg79urTnzXe",
    "outputId": "c33650c6-479c-4306-ca20-3f9b1d8a43bd"
   },
   "outputs": [
    {
     "data": {
      "image/png": "[encoded data removed]",
      "text/plain": [
       "<Figure size 432x288 with 1 Axes>"
      ]
     },
     "metadata": {},
     "output_type": "display_data"
    }
   ],
   "source": [
    "# Plot Fitted Polynomials with GA() and Polyfit()\n",
    "xfitPF, xfitGA, yfitPF, yfitGA = [],[],[],[]\n",
    "for i in range(math.floor(min(x_train))-1, math.ceil(max(x_train))+1):\n",
    "  xfitPF.append(i)\n",
    "  yfitPF.append(polyPF(i))\n",
    "  xfitGA.append(i)\n",
    "  yfitGA.append(polyGA(i))\n",
    "\n",
    "plt.title('Fitted Polynomials with GA() and Polyfit()')\n",
    "plt.plot(xfitGA, yfitGA, 'k')\n",
    "plt.plot(xfitPF, yfitPF, 'r')\n",
    "plt.scatter(x_train, y_train)\n",
    "plt.scatter(x_test, y_test)\n",
    "plt.legend(['Genetic()', 'Polyfit()', 'Train Data', 'Test Data'])\n",
    "plt.show()"
   ]
  },
  {
   "cell_type": "code",
   "execution_count": 7,
   "metadata": {
    "colab": {
     "base_uri": "https://localhost:8080/"
    },
    "id": "4_-HLkFxuwmH",
    "outputId": "1f66692f-3e8d-475c-fd0d-67ca550d8437"
   },
   "outputs": [
    {
     "name": "stdout",
     "output_type": "stream",
     "text": [
      "Total Error of Genetic Algorithm: 109\n",
      "Total Error of Polyfit Function:  106\n"
     ]
    }
   ],
   "source": [
    "# Show Testing Error for GA() & Polyfit()\n",
    "predsGA, predsPF = [],[]\n",
    "for x in x_test:\n",
    "  predsGA.append(polyGA(x))\n",
    "  predsPF.append(polyPF(x))\n",
    "errorGA = np.square(y_test - predsGA).mean()/100\n",
    "errorPF = np.square(y_test - predsPF).mean()/100\n",
    "print(f\"Total Error of Genetic Algorithm: {int(errorGA)}\")\n",
    "print(f\"Total Error of Polyfit Function:  {int(errorPF)}\")"
   ]
  },
  {
   "cell_type": "markdown",
   "metadata": {},
   "source": [
    "As shown in the results above, the error of the genetic algorithm is very close to that of the polyfit() function. We can also empirically visualize this based on the graph displayed above. The ideal parameters for the GA were mutation rate = 0.01 and crossover rate = 1.00. Overall, both models did a very good job of fitting polynomials to the raw sample data."
   ]
  }
 ],
 "metadata": {
  "colab": {
   "collapsed_sections": [],
   "name": "CPE695-HW5",
   "provenance": []
  },
  "kernelspec": {
   "display_name": "Python 3",
   "language": "python",
   "name": "python3"
  },
  "language_info": {
   "codemirror_mode": {
    "name": "ipython",
    "version": 3
   },
   "file_extension": ".py",
   "mimetype": "text/x-python",
   "name": "python",
   "nbconvert_exporter": "python",
   "pygments_lexer": "ipython3",
   "version": "3.8.3"
  }
 },
 "nbformat": 4,
 "nbformat_minor": 1
}
