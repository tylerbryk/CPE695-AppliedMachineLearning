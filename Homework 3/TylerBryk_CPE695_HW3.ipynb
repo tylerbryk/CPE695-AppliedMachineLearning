{
 "cells": [
  {
   "cell_type": "markdown",
   "metadata": {
    "id": "_ehK_SRfWn3g"
   },
   "source": [
    "# CPE695 HW3\n",
    "**By: Tyler Bryk**\n",
    "\n",
    "In this assignment, we will explore the titanic dataset and create a decision tree to predict the survival rate of passengers on board. \n",
    "\n",
    "**Step 1:** Read in Titanic.csv and observe a few samples, some features are categorical and others are numerical. Take a random 80% samples for training and the rest 20% for test.\n",
    "\n",
    "\n",
    "\n",
    "*In this step, we load our Titanic.csv dataset into a Pandas DataFrame. First, we convert values in the sex column to be numerical, female->0 and male->1, then we do the same for the pclass column, 1st->1, 2nd->2, 3rd->3. The age column contains several missing values, so we will impute those missing instances with the median value for the age column. Lastly, we will split our dataset into 80% training data, and 20% testing data.*"
   ]
  },
  {
   "cell_type": "code",
   "execution_count": 1,
   "metadata": {
    "id": "ZGh-BfksWj1e"
   },
   "outputs": [],
   "source": [
    "# Import Libraries\n",
    "import pandas as pd\n",
    "import graphviz\n",
    "import matplotlib.pyplot as plt\n",
    "from sklearn.model_selection import train_test_split, GridSearchCV\n",
    "from sklearn.tree import DecisionTreeClassifier, plot_tree, export_graphviz\n",
    "from sklearn.metrics import confusion_matrix, plot_confusion_matrix, accuracy_score"
   ]
  },
  {
   "cell_type": "code",
   "execution_count": 2,
   "metadata": {
    "id": "WxeWfc8pXriL"
   },
   "outputs": [],
   "source": [
    "# Load Data and Split 80:20\n",
    "data = pd.read_csv('Titanic.csv', index_col=0)\n",
    "data['sex'].replace(['female','male'],[0,1], inplace=True)\n",
    "data['pclass'].replace(['1st','2nd','3rd'],[1,2,3], inplace=True)\n",
    "data['age'] = data['age'].fillna(data['age'].median())\n",
    "x = data[['pclass', 'sex', 'age', 'sibsp']]\n",
    "y = data['survived']\n",
    "xTrain, xTest, yTrain, yTest = train_test_split(x, y, test_size=0.2, random_state=10413641)"
   ]
  },
  {
   "cell_type": "markdown",
   "metadata": {
    "id": "szk0lT4paOzq"
   },
   "source": [
    "# Decision Tree Modeling\n",
    "**Step 2:** Fit a decision tree model using independent variables ‘pclass + sex + age + sibsp’ and dependent variable ‘survived’. Then plot the full tree.\n",
    "\n",
    "*In this step, we fit a decision tree classifier with the training data. Our classifier uses the default parameters specified by the sklearn library. Afterwards, the initial tree is plotted and saved to a DT-Initial.png file. The tree is also illustrated below in the notebook. Based on the visualization of the tree, it can be observed that the tree depth is 15, which is very clunky. It is also important to remember that the sex class has been split into numerical values where female->0 and male->1, so for the root node of our tree, females are to the left section, and males are to the right. Despite this tree being very large, it seems to make logical sense, and it also agrees with the example tree that the professor illustrated in the homework assignment. In the next step, we will determine the accuracy of the tree, and then prune the tree to a smaller depth.*"
   ]
  },
  {
   "cell_type": "code",
   "execution_count": 3,
   "metadata": {
    "id": "y4czOv9Dagkv"
   },
   "outputs": [],
   "source": [
    "# Create a Decision Tree with Default Parameters\n",
    "clf = DecisionTreeClassifier(random_state=10413641).fit(xTrain, yTrain)"
   ]
  },
  {
   "cell_type": "code",
   "execution_count": 4,
   "metadata": {
    "colab": {
     "base_uri": "https://localhost:8080/",
     "height": 1000
    },
    "id": "mFBeZWuZ8rv7",
    "outputId": "92b5972b-9e4b-40fd-cb51-30de31e6079f"
   },
   "outputs": [
    {
     "ename": "ExecutableNotFound",
     "evalue": "failed to execute ['dot', '-Tpng', '-O', 'DT-Initial'], make sure the Graphviz executables are on your systems' PATH",
     "output_type": "error",
     "traceback": [
      "\u001b[0;31m---------------------------------------------------------------------------\u001b[0m",
      "\u001b[0;31mFileNotFoundError\u001b[0m                         Traceback (most recent call last)",
      "\u001b[0;32m~/opt/anaconda3/lib/python3.8/site-packages/graphviz/backend.py\u001b[0m in \u001b[0;36mrun\u001b[0;34m(cmd, input, capture_output, check, encoding, quiet, **kwargs)\u001b[0m\n\u001b[1;32m    163\u001b[0m     \u001b[0;32mtry\u001b[0m\u001b[0;34m:\u001b[0m\u001b[0;34m\u001b[0m\u001b[0;34m\u001b[0m\u001b[0m\n\u001b[0;32m--> 164\u001b[0;31m         \u001b[0mproc\u001b[0m \u001b[0;34m=\u001b[0m \u001b[0msubprocess\u001b[0m\u001b[0;34m.\u001b[0m\u001b[0mPopen\u001b[0m\u001b[0;34m(\u001b[0m\u001b[0mcmd\u001b[0m\u001b[0;34m,\u001b[0m \u001b[0mstartupinfo\u001b[0m\u001b[0;34m=\u001b[0m\u001b[0mget_startupinfo\u001b[0m\u001b[0;34m(\u001b[0m\u001b[0;34m)\u001b[0m\u001b[0;34m,\u001b[0m \u001b[0;34m**\u001b[0m\u001b[0mkwargs\u001b[0m\u001b[0;34m)\u001b[0m\u001b[0;34m\u001b[0m\u001b[0;34m\u001b[0m\u001b[0m\n\u001b[0m\u001b[1;32m    165\u001b[0m     \u001b[0;32mexcept\u001b[0m \u001b[0mOSError\u001b[0m \u001b[0;32mas\u001b[0m \u001b[0me\u001b[0m\u001b[0;34m:\u001b[0m\u001b[0;34m\u001b[0m\u001b[0;34m\u001b[0m\u001b[0m\n",
      "\u001b[0;32m~/opt/anaconda3/lib/python3.8/subprocess.py\u001b[0m in \u001b[0;36m__init__\u001b[0;34m(self, args, bufsize, executable, stdin, stdout, stderr, preexec_fn, close_fds, shell, cwd, env, universal_newlines, startupinfo, creationflags, restore_signals, start_new_session, pass_fds, encoding, errors, text)\u001b[0m\n\u001b[1;32m    853\u001b[0m \u001b[0;34m\u001b[0m\u001b[0m\n\u001b[0;32m--> 854\u001b[0;31m             self._execute_child(args, executable, preexec_fn, close_fds,\n\u001b[0m\u001b[1;32m    855\u001b[0m                                 \u001b[0mpass_fds\u001b[0m\u001b[0;34m,\u001b[0m \u001b[0mcwd\u001b[0m\u001b[0;34m,\u001b[0m \u001b[0menv\u001b[0m\u001b[0;34m,\u001b[0m\u001b[0;34m\u001b[0m\u001b[0;34m\u001b[0m\u001b[0m\n",
      "\u001b[0;32m~/opt/anaconda3/lib/python3.8/subprocess.py\u001b[0m in \u001b[0;36m_execute_child\u001b[0;34m(self, args, executable, preexec_fn, close_fds, pass_fds, cwd, env, startupinfo, creationflags, shell, p2cread, p2cwrite, c2pread, c2pwrite, errread, errwrite, restore_signals, start_new_session)\u001b[0m\n\u001b[1;32m   1701\u001b[0m                         \u001b[0merr_msg\u001b[0m \u001b[0;34m=\u001b[0m \u001b[0mos\u001b[0m\u001b[0;34m.\u001b[0m\u001b[0mstrerror\u001b[0m\u001b[0;34m(\u001b[0m\u001b[0merrno_num\u001b[0m\u001b[0;34m)\u001b[0m\u001b[0;34m\u001b[0m\u001b[0;34m\u001b[0m\u001b[0m\n\u001b[0;32m-> 1702\u001b[0;31m                     \u001b[0;32mraise\u001b[0m \u001b[0mchild_exception_type\u001b[0m\u001b[0;34m(\u001b[0m\u001b[0merrno_num\u001b[0m\u001b[0;34m,\u001b[0m \u001b[0merr_msg\u001b[0m\u001b[0;34m,\u001b[0m \u001b[0merr_filename\u001b[0m\u001b[0;34m)\u001b[0m\u001b[0;34m\u001b[0m\u001b[0;34m\u001b[0m\u001b[0m\n\u001b[0m\u001b[1;32m   1703\u001b[0m                 \u001b[0;32mraise\u001b[0m \u001b[0mchild_exception_type\u001b[0m\u001b[0;34m(\u001b[0m\u001b[0merr_msg\u001b[0m\u001b[0;34m)\u001b[0m\u001b[0;34m\u001b[0m\u001b[0;34m\u001b[0m\u001b[0m\n",
      "\u001b[0;31mFileNotFoundError\u001b[0m: [Errno 2] No such file or directory: 'dot'",
      "\nDuring handling of the above exception, another exception occurred:\n",
      "\u001b[0;31mExecutableNotFound\u001b[0m                        Traceback (most recent call last)",
      "\u001b[0;32m<ipython-input-4-716059710a1b>\u001b[0m in \u001b[0;36m<module>\u001b[0;34m\u001b[0m\n\u001b[1;32m      2\u001b[0m \u001b[0mdot_data\u001b[0m \u001b[0;34m=\u001b[0m \u001b[0mexport_graphviz\u001b[0m\u001b[0;34m(\u001b[0m\u001b[0mclf\u001b[0m\u001b[0;34m,\u001b[0m \u001b[0mfilled\u001b[0m\u001b[0;34m=\u001b[0m\u001b[0;32mTrue\u001b[0m\u001b[0;34m,\u001b[0m \u001b[0mfeature_names\u001b[0m \u001b[0;34m=\u001b[0m \u001b[0;34m[\u001b[0m\u001b[0;34m'pclass'\u001b[0m\u001b[0;34m,\u001b[0m\u001b[0;34m'sex'\u001b[0m\u001b[0;34m,\u001b[0m\u001b[0;34m'age'\u001b[0m\u001b[0;34m,\u001b[0m\u001b[0;34m'sibsp'\u001b[0m\u001b[0;34m]\u001b[0m\u001b[0;34m,\u001b[0m \u001b[0mclass_names\u001b[0m\u001b[0;34m=\u001b[0m\u001b[0;34m[\u001b[0m\u001b[0;34m'0'\u001b[0m\u001b[0;34m,\u001b[0m\u001b[0;34m'1'\u001b[0m\u001b[0;34m]\u001b[0m\u001b[0;34m)\u001b[0m\u001b[0;34m\u001b[0m\u001b[0;34m\u001b[0m\u001b[0m\n\u001b[1;32m      3\u001b[0m \u001b[0mgraph\u001b[0m \u001b[0;34m=\u001b[0m \u001b[0mgraphviz\u001b[0m\u001b[0;34m.\u001b[0m\u001b[0mSource\u001b[0m\u001b[0;34m(\u001b[0m\u001b[0mdot_data\u001b[0m\u001b[0;34m,\u001b[0m \u001b[0mformat\u001b[0m\u001b[0;34m=\u001b[0m\u001b[0;34m\"png\"\u001b[0m\u001b[0;34m)\u001b[0m\u001b[0;34m\u001b[0m\u001b[0;34m\u001b[0m\u001b[0m\n\u001b[0;32m----> 4\u001b[0;31m \u001b[0mgraph\u001b[0m\u001b[0;34m.\u001b[0m\u001b[0mrender\u001b[0m\u001b[0;34m(\u001b[0m\u001b[0;34m\"DT-Initial\"\u001b[0m\u001b[0;34m)\u001b[0m\u001b[0;34m\u001b[0m\u001b[0;34m\u001b[0m\u001b[0m\n\u001b[0m\u001b[1;32m      5\u001b[0m \u001b[0mgraph\u001b[0m\u001b[0;34m\u001b[0m\u001b[0;34m\u001b[0m\u001b[0m\n",
      "\u001b[0;32m~/opt/anaconda3/lib/python3.8/site-packages/graphviz/files.py\u001b[0m in \u001b[0;36mrender\u001b[0;34m(self, filename, directory, view, cleanup, format, renderer, formatter, quiet, quiet_view)\u001b[0m\n\u001b[1;32m    205\u001b[0m             \u001b[0mformat\u001b[0m \u001b[0;34m=\u001b[0m \u001b[0mself\u001b[0m\u001b[0;34m.\u001b[0m\u001b[0m_format\u001b[0m\u001b[0;34m\u001b[0m\u001b[0;34m\u001b[0m\u001b[0m\n\u001b[1;32m    206\u001b[0m \u001b[0;34m\u001b[0m\u001b[0m\n\u001b[0;32m--> 207\u001b[0;31m         rendered = backend.render(self._engine, format, filepath,\n\u001b[0m\u001b[1;32m    208\u001b[0m                                   \u001b[0mrenderer\u001b[0m\u001b[0;34m=\u001b[0m\u001b[0mrenderer\u001b[0m\u001b[0;34m,\u001b[0m \u001b[0mformatter\u001b[0m\u001b[0;34m=\u001b[0m\u001b[0mformatter\u001b[0m\u001b[0;34m,\u001b[0m\u001b[0;34m\u001b[0m\u001b[0;34m\u001b[0m\u001b[0m\n\u001b[1;32m    209\u001b[0m                                   quiet=quiet)\n",
      "\u001b[0;32m~/opt/anaconda3/lib/python3.8/site-packages/graphviz/backend.py\u001b[0m in \u001b[0;36mrender\u001b[0;34m(***failed resolving arguments***)\u001b[0m\n\u001b[1;32m    219\u001b[0m         \u001b[0mcwd\u001b[0m \u001b[0;34m=\u001b[0m \u001b[0;32mNone\u001b[0m\u001b[0;34m\u001b[0m\u001b[0;34m\u001b[0m\u001b[0m\n\u001b[1;32m    220\u001b[0m \u001b[0;34m\u001b[0m\u001b[0m\n\u001b[0;32m--> 221\u001b[0;31m     \u001b[0mrun\u001b[0m\u001b[0;34m(\u001b[0m\u001b[0mcmd\u001b[0m\u001b[0;34m,\u001b[0m \u001b[0mcapture_output\u001b[0m\u001b[0;34m=\u001b[0m\u001b[0;32mTrue\u001b[0m\u001b[0;34m,\u001b[0m \u001b[0mcwd\u001b[0m\u001b[0;34m=\u001b[0m\u001b[0mcwd\u001b[0m\u001b[0;34m,\u001b[0m \u001b[0mcheck\u001b[0m\u001b[0;34m=\u001b[0m\u001b[0;32mTrue\u001b[0m\u001b[0;34m,\u001b[0m \u001b[0mquiet\u001b[0m\u001b[0;34m=\u001b[0m\u001b[0mquiet\u001b[0m\u001b[0;34m)\u001b[0m\u001b[0;34m\u001b[0m\u001b[0;34m\u001b[0m\u001b[0m\n\u001b[0m\u001b[1;32m    222\u001b[0m     \u001b[0;32mreturn\u001b[0m \u001b[0mrendered\u001b[0m\u001b[0;34m\u001b[0m\u001b[0;34m\u001b[0m\u001b[0m\n\u001b[1;32m    223\u001b[0m \u001b[0;34m\u001b[0m\u001b[0m\n",
      "\u001b[0;32m~/opt/anaconda3/lib/python3.8/site-packages/graphviz/backend.py\u001b[0m in \u001b[0;36mrun\u001b[0;34m(cmd, input, capture_output, check, encoding, quiet, **kwargs)\u001b[0m\n\u001b[1;32m    165\u001b[0m     \u001b[0;32mexcept\u001b[0m \u001b[0mOSError\u001b[0m \u001b[0;32mas\u001b[0m \u001b[0me\u001b[0m\u001b[0;34m:\u001b[0m\u001b[0;34m\u001b[0m\u001b[0;34m\u001b[0m\u001b[0m\n\u001b[1;32m    166\u001b[0m         \u001b[0;32mif\u001b[0m \u001b[0me\u001b[0m\u001b[0;34m.\u001b[0m\u001b[0merrno\u001b[0m \u001b[0;34m==\u001b[0m \u001b[0merrno\u001b[0m\u001b[0;34m.\u001b[0m\u001b[0mENOENT\u001b[0m\u001b[0;34m:\u001b[0m\u001b[0;34m\u001b[0m\u001b[0;34m\u001b[0m\u001b[0m\n\u001b[0;32m--> 167\u001b[0;31m             \u001b[0;32mraise\u001b[0m \u001b[0mExecutableNotFound\u001b[0m\u001b[0;34m(\u001b[0m\u001b[0mcmd\u001b[0m\u001b[0;34m)\u001b[0m\u001b[0;34m\u001b[0m\u001b[0;34m\u001b[0m\u001b[0m\n\u001b[0m\u001b[1;32m    168\u001b[0m         \u001b[0;32melse\u001b[0m\u001b[0;34m:\u001b[0m\u001b[0;34m\u001b[0m\u001b[0;34m\u001b[0m\u001b[0m\n\u001b[1;32m    169\u001b[0m             \u001b[0;32mraise\u001b[0m\u001b[0;34m\u001b[0m\u001b[0;34m\u001b[0m\u001b[0m\n",
      "\u001b[0;31mExecutableNotFound\u001b[0m: failed to execute ['dot', '-Tpng', '-O', 'DT-Initial'], make sure the Graphviz executables are on your systems' PATH"
     ]
    }
   ],
   "source": [
    "# Plot the Decision Tree using Graphviz\n",
    "dot_data = export_graphviz(clf, filled=True, feature_names = ['pclass','sex','age','sibsp'], class_names=['0','1'])\n",
    "graph = graphviz.Source(dot_data, format=\"png\") \n",
    "graph.render(\"DT-Initial\")\n",
    "graph"
   ]
  },
  {
   "cell_type": "markdown",
   "metadata": {
    "id": "L8BGxN23p1Dq"
   },
   "source": [
    "# Sampling Errors\n",
    "**Step 3:** Print out the performance measures of the full model:\n",
    "- In‐sample percent survivors correctly predicted (on training set)\n",
    "- In-sample percent fatalities correctly predicted (on training set) \n",
    "- Out‐of‐sample percent survivors correctly predicted (on test set)\n",
    "- Out-of‐sample percent fatalities correctly predicted (on test set)\n",
    "\n",
    "*In this step, we calculate the in and out-of-sample accuracy rates. After training the model on the training data, we then test the model on the training data again (In-sample) and then on the testing data (Out-of-sample). The confusion matrix for each trial is displayed below. The in-sample test gave a very promising overall accuracy of roughly 88% where the positive class was correctly predicted 76% and the negative class was correctly predicted 95% of the time. While the in-sample accuracy is very good, the out-of-sample accuracy was roughly 10% lower across the board, indicating that our decision tree model is overfit. Knowing that our model is overfit, we will now try to prune the tree and find the optimal parameters. We will then test the model on these performance metrics again, and hope that the testing accuracy closer resembles the training accuracy.*"
   ]
  },
  {
   "cell_type": "code",
   "execution_count": null,
   "metadata": {
    "colab": {
     "base_uri": "https://localhost:8080/",
     "height": 122
    },
    "id": "GGgxanCYsVOg",
    "outputId": "aff69597-d7ef-432d-915e-32aa200be7c1"
   },
   "outputs": [],
   "source": [
    "# In-Sample Error\n",
    "insamplePreds = clf.predict(xTrain)\n",
    "tn, fp, fn, tp = confusion_matrix(yTrain, insamplePreds).ravel()\n",
    "print('Percent Survivors Correctly Predicted:\\t', 100*(tp / (tp + fn)), '%')\n",
    "print('Percent Fatalities Correctly Predicted:\\t', 100*(tn / (tn + fp)), '%')\n",
    "print('Overall In-Sample Accuracy:\\t\\t', 100*accuracy_score(insamplePreds, yTrain), '%\\n')\n",
    "plot_confusion_matrix(clf, xTrain, yTrain, cmap=plt.cm.Blues, display_labels = ['Did Not Survive', 'Survived'], values_format='d')\n",
    "plt.show()"
   ]
  },
  {
   "cell_type": "code",
   "execution_count": null,
   "metadata": {
    "colab": {
     "base_uri": "https://localhost:8080/",
     "height": 122
    },
    "id": "MNZgTnvn3PlR",
    "outputId": "8c9cd5db-b359-4d11-94c1-feda5eba2b9a"
   },
   "outputs": [],
   "source": [
    "# Out-of-Sample Error\n",
    "outsamplePreds = clf.predict(xTest)\n",
    "tn, fp, fn, tp = confusion_matrix(yTest, outsamplePreds).ravel()\n",
    "print('Percent Survivors Correctly Predicted:\\t', 100*(tp / (tp + fn)), '%')\n",
    "print('Percent Fatalities Correctly Predicted:\\t', 100*(tn / (tn + fp)), '%')\n",
    "print('Overall Out-of-Sample Accuracy:\\t\\t', 100*accuracy_score(outsamplePreds, yTest), '%\\n')\n",
    "plot_confusion_matrix(clf, xTest, yTest, cmap=plt.cm.Blues, display_labels = ['Did Not Survive', 'Survived'], values_format='d')\n",
    "plt.show()"
   ]
  },
  {
   "cell_type": "markdown",
   "metadata": {
    "id": "8BYN7s_-qSUz"
   },
   "source": [
    "# Cross Validation\n",
    "\n",
    "**Step 4:** Use cross‐validation to find the best parameter to prune the tree. You should be able to plot a graph with the ‘tree size’ as the x-axis and ‘number of misclassification’ as the Y-axis. Find the minimum number of misclassification and choose the corresponding tree size to prune the tree.\n",
    "\n",
    "*In this step, we use cross validation to prune the tree, and find the optimal model parameters. We will use sklearn's gridsearchCV method to opitimize our model. A k-fold CV method with 5 folds was selected because it yielded the highest overall accuracy across samples where 5, 10, 15 folds were sampled. The parameters being tested for sklearn's decision tree classifier are displayed in output below, along with each of their optimal values. For our tree, it appears that the optimal tree depth is between 3 and 4 nodes, and the max number of leaf nodes should be 8. The tree depth results vary, the gridsearch suggests 4, however the graph of tree size vs. error suggest a depth of 3. We will try both depths on our final pruned model, and we will select whichever depth gives the highest sample accuracy. Looking ahead, a max depth of four was the ideal size.*"
   ]
  },
  {
   "cell_type": "code",
   "execution_count": null,
   "metadata": {
    "colab": {
     "base_uri": "https://localhost:8080/",
     "height": 105
    },
    "id": "7hirPYasv-TO",
    "outputId": "1cd10523-0280-4d51-e5ad-b99eed01de88"
   },
   "outputs": [],
   "source": [
    "# Use 5-Fold Cross Validation to Tune Model Parameters\n",
    "\n",
    "params = [{ 'max_depth':[2,3,4,5,6],\n",
    "            'max_leaf_nodes':[None,2,3,4,5,6,7,8,9,10]  }]\n",
    "\n",
    "gridsearchDT05 = GridSearchCV(clf, params, cv= 5).fit(xTrain,yTrain)\n",
    "gridsearchDT10 = GridSearchCV(clf, params, cv=10).fit(xTrain,yTrain)\n",
    "gridsearchDT15 = GridSearchCV(clf, params, cv=15).fit(xTrain,yTrain)\n",
    "\n",
    "print(\"Accuracy for  5-folds: {}\".format(gridsearchDT05.score(xTest,yTest)))\n",
    "print(\"Accuracy for 10-folds: {}\".format(gridsearchDT10.score(xTest,yTest)))\n",
    "print(\"Accuracy for 15-folds: {}\".format(gridsearchDT15.score(xTest,yTest)))\n",
    "\n",
    "print(\"Optimal Parameters with 5-fold: {}\".format(gridsearchDT05.best_params_))"
   ]
  },
  {
   "cell_type": "code",
   "execution_count": null,
   "metadata": {
    "colab": {
     "base_uri": "https://localhost:8080/",
     "height": 54
    },
    "id": "E_-Jc5l16Sai",
    "outputId": "2e10beae-ea20-4abd-bc61-bf702f5f41ea"
   },
   "outputs": [],
   "source": [
    "# Plot Tree Size vs. Misclassification Rate\n",
    "misclassTr = []\n",
    "misclassTe = []\n",
    "for node in range(10):\n",
    "  c = DecisionTreeClassifier(max_depth=(node+1), max_leaf_nodes=8).fit(xTrain,yTrain)\n",
    "  predsTr = c.predict(xTrain)\n",
    "  predsTe = c.predict(xTest)\n",
    "  tnr, fpr, fnr, tpr = confusion_matrix(yTrain, predsTr).ravel()\n",
    "  tne, fpe, fne, tpe = confusion_matrix(yTest,  predsTe).ravel()\n",
    "  misclassTr.append(fpr+fnr)\n",
    "  misclassTe.append(fpe+fne)\n",
    "plt.figure(figsize=(12,4))\n",
    "plt.subplot(121)\n",
    "plt.xlabel(\"Tree Size\")\n",
    "plt.ylabel(\"# of Misclassifications\")\n",
    "plt.title(\"Tree Size vs. Number of Misclassifications (Train)\")\n",
    "plt.plot(range(1,11),misclassTr, linestyle='--', marker='o', color='b')\n",
    "plt.subplot(122)\n",
    "plt.xlabel(\"Tree Size\")\n",
    "plt.ylabel(\"# of Misclassifications\")\n",
    "plt.title(\"Tree Size vs. Number of Misclassifications (Test)\")\n",
    "plt.plot(range(1,11),misclassTe, linestyle='--', marker='o', color='r')\n",
    "plt.show()"
   ]
  },
  {
   "cell_type": "markdown",
   "metadata": {
    "id": "PFAm_VrIqp4X"
   },
   "source": [
    "# Pruning the Tree\n",
    "**Step 5:** Prune the tree with the optimal tree size and plot the pruned tree."
   ]
  },
  {
   "cell_type": "code",
   "execution_count": null,
   "metadata": {
    "id": "OCWe-Iwuu4ON"
   },
   "outputs": [],
   "source": [
    "# Create a Pruned Decision Tree with Max Depth 4 and Max Leaf Nodes 8\n",
    "pclf = DecisionTreeClassifier(max_depth=4, max_leaf_nodes=8, random_state=10413641).fit(xTrain, yTrain)"
   ]
  },
  {
   "cell_type": "code",
   "execution_count": null,
   "metadata": {
    "colab": {
     "base_uri": "https://localhost:8080/",
     "height": 777
    },
    "id": "V8BVbIZxu13G",
    "outputId": "d12a7837-b709-43c9-9cdb-4cd923fdca1e"
   },
   "outputs": [],
   "source": [
    "# Plot the Pruned Decision Tree using Graphviz\n",
    "dot_data = export_graphviz(pclf, filled=True, feature_names = ['pclass','sex','age','sibsp'], class_names=['0','1'])\n",
    "graph = graphviz.Source(dot_data, format=\"png\") \n",
    "graph.render(\"DT-Pruned\")\n",
    "graph"
   ]
  },
  {
   "cell_type": "markdown",
   "metadata": {
    "id": "9qqmP6A7qs3R"
   },
   "source": [
    "# Pruned Sampling Errors\n",
    "\n",
    "**Step 6:** For the final pruned tree, report its in‐sample and out‐of‐sample accuracy, defined as:\n",
    "- In‐sample percent survivors correctly predicted (on training set) \n",
    "- In‐sample percent fatalities correctly predicted (on training set) \n",
    "- Out‐of‐sample percent survivors correctly predicted (on test set) \n",
    "- Out‐of‐sample percent fatalities correctly predicted (on test set)\n",
    "\n",
    "Check whether there is improvement in out‐of‐sample for the full tree (bigger model) and the pruned tree (smaller model).\n",
    "\n",
    "*Overall, pruning the decision tree helped imporve the out-of-sample accuracy of the model. If we look at the accuracies for the initial full tree: 88% In-sample, 77% Out-of-sample, we noticed that the training accuracy was faily high, and the model was clearly overfit because of the large gap between training and testing accuracy. Thankfully, this was no longer the case in the pruned model. Looking at the new performance: 81% In-sample, 79% Out-of-sample, we first notice that the testing accuracy increased by a modest 2%, but more importantly the difference between training and testing accuracy is very close, which indicates that the model is no longer overfit.*"
   ]
  },
  {
   "cell_type": "code",
   "execution_count": null,
   "metadata": {
    "colab": {
     "base_uri": "https://localhost:8080/",
     "height": 347
    },
    "id": "bkqxEYQ4yHaa",
    "outputId": "8e82d840-928b-461b-964b-680ac255a15d"
   },
   "outputs": [],
   "source": [
    "# In-Sample Error\n",
    "insamplePreds = pclf.predict(xTrain)\n",
    "tn, fp, fn, tp = confusion_matrix(yTrain, insamplePreds).ravel()\n",
    "print('Percent Survivors Correctly Predicted:\\t', 100*(tp / (tp + fn)), '%')\n",
    "print('Percent Fatalities Correctly Predicted:\\t', 100*(tn / (tn + fp)), '%')\n",
    "print('Overall In-Sample Accuracy:\\t\\t', 100*accuracy_score(insamplePreds, yTrain), '%\\n')\n",
    "plot_confusion_matrix(pclf, xTrain, yTrain, cmap=plt.cm.Blues, display_labels = ['Did Not Survive', 'Survived'], values_format='d')\n",
    "plt.show()"
   ]
  },
  {
   "cell_type": "code",
   "execution_count": null,
   "metadata": {
    "colab": {
     "base_uri": "https://localhost:8080/",
     "height": 347
    },
    "id": "jOJ_kRLJyX5R",
    "outputId": "0362b3f8-11ba-47ef-9e06-ee78f5ebd5d3"
   },
   "outputs": [],
   "source": [
    "# Out-of-Sample Error\n",
    "outsamplePreds = pclf.predict(xTest)\n",
    "tn, fp, fn, tp = confusion_matrix(yTest, outsamplePreds).ravel()\n",
    "print('Percent Survivors Correctly Predicted:\\t', 100*(tp / (tp + fn)), '%')\n",
    "print('Percent Fatalities Correctly Predicted:\\t', 100*(tn / (tn + fp)), '%')\n",
    "print('Overall Out-of-Sample Accuracy:\\t\\t', 100*accuracy_score(outsamplePreds, yTest), '%\\n')\n",
    "plot_confusion_matrix(pclf, xTest, yTest, cmap=plt.cm.Blues, display_labels = ['Did Not Survive', 'Survived'], values_format='d')\n",
    "plt.show()"
   ]
  }
 ],
 "metadata": {
  "colab": {
   "collapsed_sections": [
    "_ehK_SRfWn3g",
    "szk0lT4paOzq",
    "L8BGxN23p1Dq"
   ],
   "name": "CPE695-HW3",
   "provenance": []
  },
  "kernelspec": {
   "display_name": "Python 3",
   "language": "python",
   "name": "python3"
  },
  "language_info": {
   "codemirror_mode": {
    "name": "ipython",
    "version": 3
   },
   "file_extension": ".py",
   "mimetype": "text/x-python",
   "name": "python",
   "nbconvert_exporter": "python",
   "pygments_lexer": "ipython3",
   "version": "3.8.3"
  }
 },
 "nbformat": 4,
 "nbformat_minor": 1
}
